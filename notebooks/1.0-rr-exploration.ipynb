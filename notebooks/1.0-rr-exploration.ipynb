{
 "cells": [
  {
   "cell_type": "code",
   "execution_count": 66,
   "metadata": {},
   "outputs": [],
   "source": [
    "import os\n",
    "import sys\n",
    "import pandas as pd\n",
    "import matplotlib.pyplot as plt\n",
    "\n",
    "module_path = os.path.abspath(os.path.join('..'))\n",
    "if module_path not in sys.path:\n",
    "    sys.path.append(module_path)\n",
    "from src import helpers\n",
    "\n",
    "%matplotlib inline"
   ]
  },
  {
   "cell_type": "code",
   "execution_count": 60,
   "metadata": {},
   "outputs": [
    {
     "name": "stdout",
     "output_type": "stream",
     "text": [
      "3.62\n"
     ]
    }
   ],
   "source": [
    "# df = pd.read_csv('../data/processed/laps.csv', index_col=[\"Id\", \"Intervalle\"])\n",
    "df = pd.read_csv('../data/processed/laps.csv')\n",
    "df[\"Id\"] = df[\"Id\"].astype(str)\n",
    "df.set_index([\"Id\",\"Intervalle\"], inplace=True)\n",
    "df[\"avg_hr\"] = df[\"avg_hr\"].fillna(value=df[\"avg_hr\"].mean()).astype(int)\n",
    "df[\"max_hr\"] = df[\"max_hr\"].fillna(value=df[\"max_hr\"].mean()).astype(int)\n",
    "\n",
    "# Subset by labels for Multi-index df\n",
    "print(df.loc[(\"2136561739\", \"1\"),:][\"distance\"])"
   ]
  },
  {
   "cell_type": "markdown",
   "metadata": {},
   "source": [
    "## Taking Summaries out"
   ]
  },
  {
   "cell_type": "code",
   "execution_count": 61,
   "metadata": {},
   "outputs": [],
   "source": [
    "df.drop([\"Summary\"], level=\"Intervalle\", inplace=True)"
   ]
  },
  {
   "cell_type": "markdown",
   "metadata": {},
   "source": [
    "## Droping absurd values"
   ]
  },
  {
   "cell_type": "code",
   "execution_count": 63,
   "metadata": {},
   "outputs": [],
   "source": [
    "# General Rules\n",
    "df = df[df[\"pace\"]<10]\n",
    "df = df[df[\"time\"]>7]\n",
    "\n",
    "# Manual inspection\n",
    "# df.drop(\"1275130625\", axis=0, level=\"Id\", inplace=True)"
   ]
  },
  {
   "cell_type": "markdown",
   "metadata": {},
   "source": [
    "## Time vs Pace"
   ]
  },
  {
   "cell_type": "code",
   "execution_count": 67,
   "metadata": {
    "scrolled": true
   },
   "outputs": [
    {
     "data": {
      "text/plain": [
       "<matplotlib.collections.PathCollection at 0x843e1a39b0>"
      ]
     },
     "execution_count": 67,
     "metadata": {},
     "output_type": "execute_result"
    },
    {
     "data": {
      "image/png": "[encoded data removed]",
      "text/plain": [
       "<matplotlib.figure.Figure at 0x84416644a8>"
      ]
     },
     "metadata": {},
     "output_type": "display_data"
    }
   ],
   "source": [
    "plt.scatter(df[\"time\"], df[\"pace\"])"
   ]
  },
  {
   "cell_type": "markdown",
   "metadata": {},
   "source": [
    "## Correlation between variables"
   ]
  },
  {
   "cell_type": "code",
   "execution_count": 64,
   "metadata": {},
   "outputs": [
    {
     "data": {
      "text/html": [
       "<div>\n",
       "<style scoped>\n",
       "    .dataframe tbody tr th:only-of-type {\n",
       "        vertical-align: middle;\n",
       "    }\n",
       "\n",
       "    .dataframe tbody tr th {\n",
       "        vertical-align: top;\n",
       "    }\n",
       "\n",
       "    .dataframe thead th {\n",
       "        text-align: right;\n",
       "    }\n",
       "</style>\n",
       "<table border=\"1\" class=\"dataframe\">\n",
       "  <thead>\n",
       "    <tr style=\"text-align: right;\">\n",
       "      <th></th>\n",
       "      <th>distance</th>\n",
       "      <th>time</th>\n",
       "      <th>pace</th>\n",
       "      <th>best_pace</th>\n",
       "      <th>d_plus</th>\n",
       "      <th>d_minus</th>\n",
       "      <th>cadence</th>\n",
       "      <th>stride_length</th>\n",
       "      <th>avg_hr</th>\n",
       "      <th>max_hr</th>\n",
       "      <th>kcal</th>\n",
       "    </tr>\n",
       "  </thead>\n",
       "  <tbody>\n",
       "    <tr>\n",
       "      <th>distance</th>\n",
       "      <td>1.000000</td>\n",
       "      <td>0.988685</td>\n",
       "      <td>-0.168244</td>\n",
       "      <td>-0.015495</td>\n",
       "      <td>0.874579</td>\n",
       "      <td>0.878569</td>\n",
       "      <td>0.095413</td>\n",
       "      <td>-0.110667</td>\n",
       "      <td>-0.061979</td>\n",
       "      <td>0.170041</td>\n",
       "      <td>0.978297</td>\n",
       "    </tr>\n",
       "    <tr>\n",
       "      <th>time</th>\n",
       "      <td>0.988685</td>\n",
       "      <td>1.000000</td>\n",
       "      <td>-0.224518</td>\n",
       "      <td>-0.032203</td>\n",
       "      <td>0.874035</td>\n",
       "      <td>0.873469</td>\n",
       "      <td>0.060813</td>\n",
       "      <td>-0.150163</td>\n",
       "      <td>-0.092868</td>\n",
       "      <td>0.151627</td>\n",
       "      <td>0.970283</td>\n",
       "    </tr>\n",
       "    <tr>\n",
       "      <th>pace</th>\n",
       "      <td>-0.168244</td>\n",
       "      <td>-0.224518</td>\n",
       "      <td>1.000000</td>\n",
       "      <td>0.340572</td>\n",
       "      <td>-0.190161</td>\n",
       "      <td>-0.180294</td>\n",
       "      <td>0.529687</td>\n",
       "      <td>0.712817</td>\n",
       "      <td>0.137251</td>\n",
       "      <td>-0.012075</td>\n",
       "      <td>-0.208992</td>\n",
       "    </tr>\n",
       "    <tr>\n",
       "      <th>best_pace</th>\n",
       "      <td>-0.015495</td>\n",
       "      <td>-0.032203</td>\n",
       "      <td>0.340572</td>\n",
       "      <td>1.000000</td>\n",
       "      <td>-0.044910</td>\n",
       "      <td>-0.040656</td>\n",
       "      <td>0.027508</td>\n",
       "      <td>0.288479</td>\n",
       "      <td>0.031389</td>\n",
       "      <td>0.089529</td>\n",
       "      <td>-0.028564</td>\n",
       "    </tr>\n",
       "    <tr>\n",
       "      <th>d_plus</th>\n",
       "      <td>0.874579</td>\n",
       "      <td>0.874035</td>\n",
       "      <td>-0.190161</td>\n",
       "      <td>-0.044910</td>\n",
       "      <td>1.000000</td>\n",
       "      <td>0.929670</td>\n",
       "      <td>0.045863</td>\n",
       "      <td>-0.129849</td>\n",
       "      <td>-0.037596</td>\n",
       "      <td>0.149273</td>\n",
       "      <td>0.870167</td>\n",
       "    </tr>\n",
       "    <tr>\n",
       "      <th>d_minus</th>\n",
       "      <td>0.878569</td>\n",
       "      <td>0.873469</td>\n",
       "      <td>-0.180294</td>\n",
       "      <td>-0.040656</td>\n",
       "      <td>0.929670</td>\n",
       "      <td>1.000000</td>\n",
       "      <td>0.054133</td>\n",
       "      <td>-0.122344</td>\n",
       "      <td>-0.044602</td>\n",
       "      <td>0.146934</td>\n",
       "      <td>0.870417</td>\n",
       "    </tr>\n",
       "    <tr>\n",
       "      <th>cadence</th>\n",
       "      <td>0.095413</td>\n",
       "      <td>0.060813</td>\n",
       "      <td>0.529687</td>\n",
       "      <td>0.027508</td>\n",
       "      <td>0.045863</td>\n",
       "      <td>0.054133</td>\n",
       "      <td>1.000000</td>\n",
       "      <td>0.186163</td>\n",
       "      <td>0.157524</td>\n",
       "      <td>0.024622</td>\n",
       "      <td>0.054635</td>\n",
       "    </tr>\n",
       "    <tr>\n",
       "      <th>stride_length</th>\n",
       "      <td>-0.110667</td>\n",
       "      <td>-0.150163</td>\n",
       "      <td>0.712817</td>\n",
       "      <td>0.288479</td>\n",
       "      <td>-0.129849</td>\n",
       "      <td>-0.122344</td>\n",
       "      <td>0.186163</td>\n",
       "      <td>1.000000</td>\n",
       "      <td>0.080486</td>\n",
       "      <td>-0.007627</td>\n",
       "      <td>-0.136953</td>\n",
       "    </tr>\n",
       "    <tr>\n",
       "      <th>avg_hr</th>\n",
       "      <td>-0.061979</td>\n",
       "      <td>-0.092868</td>\n",
       "      <td>0.137251</td>\n",
       "      <td>0.031389</td>\n",
       "      <td>-0.037596</td>\n",
       "      <td>-0.044602</td>\n",
       "      <td>0.157524</td>\n",
       "      <td>0.080486</td>\n",
       "      <td>1.000000</td>\n",
       "      <td>0.833220</td>\n",
       "      <td>0.000670</td>\n",
       "    </tr>\n",
       "    <tr>\n",
       "      <th>max_hr</th>\n",
       "      <td>0.170041</td>\n",
       "      <td>0.151627</td>\n",
       "      <td>-0.012075</td>\n",
       "      <td>0.089529</td>\n",
       "      <td>0.149273</td>\n",
       "      <td>0.146934</td>\n",
       "      <td>0.024622</td>\n",
       "      <td>-0.007627</td>\n",
       "      <td>0.833220</td>\n",
       "      <td>1.000000</td>\n",
       "      <td>0.219916</td>\n",
       "    </tr>\n",
       "    <tr>\n",
       "      <th>kcal</th>\n",
       "      <td>0.978297</td>\n",
       "      <td>0.970283</td>\n",
       "      <td>-0.208992</td>\n",
       "      <td>-0.028564</td>\n",
       "      <td>0.870167</td>\n",
       "      <td>0.870417</td>\n",
       "      <td>0.054635</td>\n",
       "      <td>-0.136953</td>\n",
       "      <td>0.000670</td>\n",
       "      <td>0.219916</td>\n",
       "      <td>1.000000</td>\n",
       "    </tr>\n",
       "  </tbody>\n",
       "</table>\n",
       "</div>"
      ],
      "text/plain": [
       "               distance      time      pace  best_pace    d_plus   d_minus  \\\n",
       "distance       1.000000  0.988685 -0.168244  -0.015495  0.874579  0.878569   \n",
       "time           0.988685  1.000000 -0.224518  -0.032203  0.874035  0.873469   \n",
       "pace          -0.168244 -0.224518  1.000000   0.340572 -0.190161 -0.180294   \n",
       "best_pace     -0.015495 -0.032203  0.340572   1.000000 -0.044910 -0.040656   \n",
       "d_plus         0.874579  0.874035 -0.190161  -0.044910  1.000000  0.929670   \n",
       "d_minus        0.878569  0.873469 -0.180294  -0.040656  0.929670  1.000000   \n",
       "cadence        0.095413  0.060813  0.529687   0.027508  0.045863  0.054133   \n",
       "stride_length -0.110667 -0.150163  0.712817   0.288479 -0.129849 -0.122344   \n",
       "avg_hr        -0.061979 -0.092868  0.137251   0.031389 -0.037596 -0.044602   \n",
       "max_hr         0.170041  0.151627 -0.012075   0.089529  0.149273  0.146934   \n",
       "kcal           0.978297  0.970283 -0.208992  -0.028564  0.870167  0.870417   \n",
       "\n",
       "                cadence  stride_length    avg_hr    max_hr      kcal  \n",
       "distance       0.095413      -0.110667 -0.061979  0.170041  0.978297  \n",
       "time           0.060813      -0.150163 -0.092868  0.151627  0.970283  \n",
       "pace           0.529687       0.712817  0.137251 -0.012075 -0.208992  \n",
       "best_pace      0.027508       0.288479  0.031389  0.089529 -0.028564  \n",
       "d_plus         0.045863      -0.129849 -0.037596  0.149273  0.870167  \n",
       "d_minus        0.054133      -0.122344 -0.044602  0.146934  0.870417  \n",
       "cadence        1.000000       0.186163  0.157524  0.024622  0.054635  \n",
       "stride_length  0.186163       1.000000  0.080486 -0.007627 -0.136953  \n",
       "avg_hr         0.157524       0.080486  1.000000  0.833220  0.000670  \n",
       "max_hr         0.024622      -0.007627  0.833220  1.000000  0.219916  \n",
       "kcal           0.054635      -0.136953  0.000670  0.219916  1.000000  "
      ]
     },
     "execution_count": 64,
     "metadata": {},
     "output_type": "execute_result"
    }
   ],
   "source": [
    "df.corr()"
   ]
  },
  {
   "cell_type": "markdown",
   "metadata": {},
   "source": [
    "## Minutes in each heartzone"
   ]
  },
  {
   "cell_type": "code",
   "execution_count": 68,
   "metadata": {
    "scrolled": false
   },
   "outputs": [
    {
     "data": {
      "text/plain": [
       "<Container object of 6 artists>"
      ]
     },
     "execution_count": 68,
     "metadata": {},
     "output_type": "execute_result"
    },
    {
     "data": {
      "image/png": "[encoded data removed]",
      "text/plain": [
       "<matplotlib.figure.Figure at 0x84416646a0>"
      ]
     },
     "metadata": {},
     "output_type": "display_data"
    }
   ],
   "source": [
    "df[\"zone\"] = df.apply(helpers.classify_zone, axis=1)\n",
    "s= df.groupby(\"zone\")[\"time\"].sum()/60\n",
    "plt.bar([\"0-146\",\"146-155\",\"155-163\",\"163-172\",\"172-182\",\"> 182\"], s.tolist())"
   ]
  },
  {
   "cell_type": "code",
   "execution_count": null,
   "metadata": {},
   "outputs": [],
   "source": []
  }
 ],
 "metadata": {
  "kernelspec": {
   "display_name": "Python 3",
   "language": "python",
   "name": "python3"
  },
  "language_info": {
   "codemirror_mode": {
    "name": "ipython",
    "version": 3
   },
   "file_extension": ".py",
   "mimetype": "text/x-python",
   "name": "python",
   "nbconvert_exporter": "python",
   "pygments_lexer": "ipython3",
   "version": "3.5.1"
  }
 },
 "nbformat": 4,
 "nbformat_minor": 2
}
