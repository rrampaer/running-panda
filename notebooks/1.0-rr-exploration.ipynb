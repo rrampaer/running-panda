{
 "cells": [
  {
   "cell_type": "code",
   "execution_count": 83,
   "metadata": {},
   "outputs": [],
   "source": [
    "import os\n",
    "import sys\n",
    "import math\n",
    "import numpy as np\n",
    "import pandas as pd\n",
    "import matplotlib.pyplot as plt\n",
    "from IPython.display import FileLink\n",
    "from scipy.optimize import curve_fit\n",
    "\n",
    "module_path = os.path.abspath(os.path.join('..'))\n",
    "if module_path not in sys.path:\n",
    "    sys.path.append(module_path)\n",
    "from src import helpers\n",
    "\n",
    "%matplotlib inline"
   ]
  },
  {
   "cell_type": "markdown",
   "metadata": {},
   "source": [
    "## Importing processed data"
   ]
  },
  {
   "cell_type": "code",
   "execution_count": 16,
   "metadata": {},
   "outputs": [
    {
     "name": "stdout",
     "output_type": "stream",
     "text": [
      "Dataframe successfully created.\n",
      "Link to the CSV file:\n"
     ]
    },
    {
     "data": {
      "text/html": [
       "<a href='../data/processed/laps.csv' target='_blank'>../data/processed/laps.csv</a><br>"
      ],
      "text/plain": [
       "C:\\Users\\robin\\Documents\\GitHub\\running-panda\\data\\processed\\laps.csv"
      ]
     },
     "execution_count": 16,
     "metadata": {},
     "output_type": "execute_result"
    }
   ],
   "source": [
    "# df = pd.read_csv('../data/processed/laps.csv', index_col=[\"Id\", \"Intervalle\"])\n",
    "df = pd.read_csv('../data/processed/laps.csv')\n",
    "df[\"Id\"] = df[\"Id\"].astype(str)\n",
    "df.set_index([\"Id\",\"Intervalle\"], inplace=True)\n",
    "df[\"avg_hr\"] = df[\"avg_hr\"].fillna(value=df[\"avg_hr\"].mean()).astype(int)\n",
    "df[\"max_hr\"] = df[\"max_hr\"].fillna(value=df[\"max_hr\"].mean()).astype(int)\n",
    "\n",
    "print(\"Dataframe successfully created.\\nLink to the CSV file:\")\n",
    "FileLink('../data/processed/laps.csv')"
   ]
  },
  {
   "cell_type": "markdown",
   "metadata": {},
   "source": [
    "## Droping buggy or non-running data points"
   ]
  },
  {
   "cell_type": "code",
   "execution_count": 25,
   "metadata": {},
   "outputs": [
    {
     "data": {
      "text/plain": [
       "2273"
      ]
     },
     "execution_count": 25,
     "metadata": {},
     "output_type": "execute_result"
    }
   ],
   "source": [
    "# General Rules\n",
    "speed_bugs = (df[\"pace\"]<10)&(df[\"pace\"]>2.38) # >7min/km\n",
    "pace_bugs = df[\"pace\"]<df[\"best_pace\"]\n",
    "interludes = df[\"time\"]>7\n",
    "resting = (df[\"distance\"]>0.1) | (df[\"pace\"]>4.7) # >3min30/km\n",
    "\n",
    "criteria = speed_bugs & interludes & pace_bugs & resting\n",
    "df = df[criteria]\n",
    "# df = df[(df[\"pace\"]<10)&(df[\"pace\"]>1)]\n",
    "# df = df[df[\"time\"]>7]\n",
    "# df = df[df[\"pace\"]<df[\"best_pace\"]]\n",
    "len(df)\n",
    "\n",
    "\n",
    "# Manual inspection\n",
    "# df.drop(\"1275130625\", axis=0, level=\"Id\", inplace=True)\n",
    "# Subset by labels for Multi-index df\n",
    "# print(df.loc[(\"2136561739\", \"1\"),:][\"distance\"])"
   ]
  },
  {
   "cell_type": "markdown",
   "metadata": {},
   "source": [
    "## DF1 Consists of the totals/summaries"
   ]
  },
  {
   "cell_type": "code",
   "execution_count": 4,
   "metadata": {
    "scrolled": false
   },
   "outputs": [
    {
     "data": {
      "text/plain": [
       "<matplotlib.collections.PathCollection at 0xa56d17b7f0>"
      ]
     },
     "execution_count": 4,
     "metadata": {},
     "output_type": "execute_result"
    },
    {
     "data": {
      "image/png": "[encoded data removed]",
      "text/plain": [
       "<matplotlib.figure.Figure at 0xa56a102198>"
      ]
     },
     "metadata": {},
     "output_type": "display_data"
    }
   ],
   "source": [
    "max_lap = df.index.levels[1].tolist()\n",
    "max_lap.remove('Summary')\n",
    "df1 = df.drop(max_lap, level=\"Intervalle\")\n",
    "plt.scatter(df1[\"time\"], df1[\"pace\"])"
   ]
  },
  {
   "cell_type": "markdown",
   "metadata": {},
   "source": [
    "## DF2 Consists of all the laps (more granularity)"
   ]
  },
  {
   "cell_type": "code",
   "execution_count": 26,
   "metadata": {},
   "outputs": [
    {
     "data": {
      "text/plain": [
       "<matplotlib.collections.PathCollection at 0xa56d604b00>"
      ]
     },
     "execution_count": 26,
     "metadata": {},
     "output_type": "execute_result"
    },
    {
     "data": {
      "image/png": "[encoded data removed]",
      "text/plain": [
       "<matplotlib.figure.Figure at 0xa56d322c88>"
      ]
     },
     "metadata": {},
     "output_type": "display_data"
    }
   ],
   "source": [
    "df2 = df.drop([\"Summary\"], level=\"Intervalle\")\n",
    "plt.scatter(df2[\"time\"], df2[\"pace\"])"
   ]
  },
  {
   "cell_type": "markdown",
   "metadata": {},
   "source": [
    "## Lap data - Correlation between variables"
   ]
  },
  {
   "cell_type": "code",
   "execution_count": 6,
   "metadata": {},
   "outputs": [
    {
     "data": {
      "text/html": [
       "<div>\n",
       "<style scoped>\n",
       "    .dataframe tbody tr th:only-of-type {\n",
       "        vertical-align: middle;\n",
       "    }\n",
       "\n",
       "    .dataframe tbody tr th {\n",
       "        vertical-align: top;\n",
       "    }\n",
       "\n",
       "    .dataframe thead th {\n",
       "        text-align: right;\n",
       "    }\n",
       "</style>\n",
       "<table border=\"1\" class=\"dataframe\">\n",
       "  <thead>\n",
       "    <tr style=\"text-align: right;\">\n",
       "      <th></th>\n",
       "      <th>distance</th>\n",
       "      <th>time</th>\n",
       "      <th>pace</th>\n",
       "      <th>best_pace</th>\n",
       "      <th>d_plus</th>\n",
       "      <th>d_minus</th>\n",
       "      <th>cadence</th>\n",
       "      <th>stride_length</th>\n",
       "      <th>avg_hr</th>\n",
       "      <th>max_hr</th>\n",
       "      <th>kcal</th>\n",
       "    </tr>\n",
       "  </thead>\n",
       "  <tbody>\n",
       "    <tr>\n",
       "      <th>distance</th>\n",
       "      <td>1.000000</td>\n",
       "      <td>0.988496</td>\n",
       "      <td>-0.135097</td>\n",
       "      <td>-0.022046</td>\n",
       "      <td>0.872571</td>\n",
       "      <td>0.876807</td>\n",
       "      <td>0.122077</td>\n",
       "      <td>-0.091248</td>\n",
       "      <td>-0.065812</td>\n",
       "      <td>0.159112</td>\n",
       "      <td>0.977950</td>\n",
       "    </tr>\n",
       "    <tr>\n",
       "      <th>time</th>\n",
       "      <td>0.988496</td>\n",
       "      <td>1.000000</td>\n",
       "      <td>-0.195151</td>\n",
       "      <td>-0.039775</td>\n",
       "      <td>0.872131</td>\n",
       "      <td>0.871664</td>\n",
       "      <td>0.087463</td>\n",
       "      <td>-0.131981</td>\n",
       "      <td>-0.098504</td>\n",
       "      <td>0.138593</td>\n",
       "      <td>0.969701</td>\n",
       "    </tr>\n",
       "    <tr>\n",
       "      <th>pace</th>\n",
       "      <td>-0.135097</td>\n",
       "      <td>-0.195151</td>\n",
       "      <td>1.000000</td>\n",
       "      <td>0.347041</td>\n",
       "      <td>-0.168012</td>\n",
       "      <td>-0.156545</td>\n",
       "      <td>0.534750</td>\n",
       "      <td>0.715649</td>\n",
       "      <td>0.163127</td>\n",
       "      <td>0.044205</td>\n",
       "      <td>-0.177884</td>\n",
       "    </tr>\n",
       "    <tr>\n",
       "      <th>best_pace</th>\n",
       "      <td>-0.022046</td>\n",
       "      <td>-0.039775</td>\n",
       "      <td>0.347041</td>\n",
       "      <td>1.000000</td>\n",
       "      <td>-0.053047</td>\n",
       "      <td>-0.048601</td>\n",
       "      <td>0.027165</td>\n",
       "      <td>0.281628</td>\n",
       "      <td>0.038685</td>\n",
       "      <td>0.086268</td>\n",
       "      <td>-0.035542</td>\n",
       "    </tr>\n",
       "    <tr>\n",
       "      <th>d_plus</th>\n",
       "      <td>0.872571</td>\n",
       "      <td>0.872131</td>\n",
       "      <td>-0.168012</td>\n",
       "      <td>-0.053047</td>\n",
       "      <td>1.000000</td>\n",
       "      <td>0.928832</td>\n",
       "      <td>0.066850</td>\n",
       "      <td>-0.115992</td>\n",
       "      <td>-0.039908</td>\n",
       "      <td>0.140295</td>\n",
       "      <td>0.868106</td>\n",
       "    </tr>\n",
       "    <tr>\n",
       "      <th>d_minus</th>\n",
       "      <td>0.876807</td>\n",
       "      <td>0.871664</td>\n",
       "      <td>-0.156545</td>\n",
       "      <td>-0.048601</td>\n",
       "      <td>0.928832</td>\n",
       "      <td>1.000000</td>\n",
       "      <td>0.075944</td>\n",
       "      <td>-0.107743</td>\n",
       "      <td>-0.046864</td>\n",
       "      <td>0.137611</td>\n",
       "      <td>0.868571</td>\n",
       "    </tr>\n",
       "    <tr>\n",
       "      <th>cadence</th>\n",
       "      <td>0.122077</td>\n",
       "      <td>0.087463</td>\n",
       "      <td>0.534750</td>\n",
       "      <td>0.027165</td>\n",
       "      <td>0.066850</td>\n",
       "      <td>0.075944</td>\n",
       "      <td>1.000000</td>\n",
       "      <td>0.184820</td>\n",
       "      <td>0.160848</td>\n",
       "      <td>0.047955</td>\n",
       "      <td>0.081226</td>\n",
       "    </tr>\n",
       "    <tr>\n",
       "      <th>stride_length</th>\n",
       "      <td>-0.091248</td>\n",
       "      <td>-0.131981</td>\n",
       "      <td>0.715649</td>\n",
       "      <td>0.281628</td>\n",
       "      <td>-0.115992</td>\n",
       "      <td>-0.107743</td>\n",
       "      <td>0.184820</td>\n",
       "      <td>1.000000</td>\n",
       "      <td>0.097965</td>\n",
       "      <td>0.026138</td>\n",
       "      <td>-0.117477</td>\n",
       "    </tr>\n",
       "    <tr>\n",
       "      <th>avg_hr</th>\n",
       "      <td>-0.065812</td>\n",
       "      <td>-0.098504</td>\n",
       "      <td>0.163127</td>\n",
       "      <td>0.038685</td>\n",
       "      <td>-0.039908</td>\n",
       "      <td>-0.046864</td>\n",
       "      <td>0.160848</td>\n",
       "      <td>0.097965</td>\n",
       "      <td>1.000000</td>\n",
       "      <td>0.832286</td>\n",
       "      <td>-0.001319</td>\n",
       "    </tr>\n",
       "    <tr>\n",
       "      <th>max_hr</th>\n",
       "      <td>0.159112</td>\n",
       "      <td>0.138593</td>\n",
       "      <td>0.044205</td>\n",
       "      <td>0.086268</td>\n",
       "      <td>0.140295</td>\n",
       "      <td>0.137611</td>\n",
       "      <td>0.047955</td>\n",
       "      <td>0.026138</td>\n",
       "      <td>0.832286</td>\n",
       "      <td>1.000000</td>\n",
       "      <td>0.210081</td>\n",
       "    </tr>\n",
       "    <tr>\n",
       "      <th>kcal</th>\n",
       "      <td>0.977950</td>\n",
       "      <td>0.969701</td>\n",
       "      <td>-0.177884</td>\n",
       "      <td>-0.035542</td>\n",
       "      <td>0.868106</td>\n",
       "      <td>0.868571</td>\n",
       "      <td>0.081226</td>\n",
       "      <td>-0.117477</td>\n",
       "      <td>-0.001319</td>\n",
       "      <td>0.210081</td>\n",
       "      <td>1.000000</td>\n",
       "    </tr>\n",
       "  </tbody>\n",
       "</table>\n",
       "</div>"
      ],
      "text/plain": [
       "               distance      time      pace  best_pace    d_plus   d_minus  \\\n",
       "distance       1.000000  0.988496 -0.135097  -0.022046  0.872571  0.876807   \n",
       "time           0.988496  1.000000 -0.195151  -0.039775  0.872131  0.871664   \n",
       "pace          -0.135097 -0.195151  1.000000   0.347041 -0.168012 -0.156545   \n",
       "best_pace     -0.022046 -0.039775  0.347041   1.000000 -0.053047 -0.048601   \n",
       "d_plus         0.872571  0.872131 -0.168012  -0.053047  1.000000  0.928832   \n",
       "d_minus        0.876807  0.871664 -0.156545  -0.048601  0.928832  1.000000   \n",
       "cadence        0.122077  0.087463  0.534750   0.027165  0.066850  0.075944   \n",
       "stride_length -0.091248 -0.131981  0.715649   0.281628 -0.115992 -0.107743   \n",
       "avg_hr        -0.065812 -0.098504  0.163127   0.038685 -0.039908 -0.046864   \n",
       "max_hr         0.159112  0.138593  0.044205   0.086268  0.140295  0.137611   \n",
       "kcal           0.977950  0.969701 -0.177884  -0.035542  0.868106  0.868571   \n",
       "\n",
       "                cadence  stride_length    avg_hr    max_hr      kcal  \n",
       "distance       0.122077      -0.091248 -0.065812  0.159112  0.977950  \n",
       "time           0.087463      -0.131981 -0.098504  0.138593  0.969701  \n",
       "pace           0.534750       0.715649  0.163127  0.044205 -0.177884  \n",
       "best_pace      0.027165       0.281628  0.038685  0.086268 -0.035542  \n",
       "d_plus         0.066850      -0.115992 -0.039908  0.140295  0.868106  \n",
       "d_minus        0.075944      -0.107743 -0.046864  0.137611  0.868571  \n",
       "cadence        1.000000       0.184820  0.160848  0.047955  0.081226  \n",
       "stride_length  0.184820       1.000000  0.097965  0.026138 -0.117477  \n",
       "avg_hr         0.160848       0.097965  1.000000  0.832286 -0.001319  \n",
       "max_hr         0.047955       0.026138  0.832286  1.000000  0.210081  \n",
       "kcal           0.081226      -0.117477 -0.001319  0.210081  1.000000  "
      ]
     },
     "execution_count": 6,
     "metadata": {},
     "output_type": "execute_result"
    }
   ],
   "source": [
    "df2.corr()"
   ]
  },
  {
   "cell_type": "markdown",
   "metadata": {},
   "source": [
    "## Lap Data - minutes in each heartzone"
   ]
  },
  {
   "cell_type": "code",
   "execution_count": 6,
   "metadata": {
    "scrolled": false
   },
   "outputs": [
    {
     "data": {
      "text/plain": [
       "<Container object of 6 artists>"
      ]
     },
     "execution_count": 6,
     "metadata": {},
     "output_type": "execute_result"
    },
    {
     "data": {
      "image/png": "[encoded data removed]",
      "text/plain": [
       "<matplotlib.figure.Figure at 0xa56a0d7eb8>"
      ]
     },
     "metadata": {},
     "output_type": "display_data"
    }
   ],
   "source": [
    "df2[\"zone\"] = df2.apply(helpers.classify_zone, axis=1)\n",
    "s= df2.groupby(\"zone\")[\"time\"].sum()/60\n",
    "plt.bar([\"0-146\",\"146-155\",\"155-163\",\"163-172\",\"172-182\",\"> 182\"], s.tolist())"
   ]
  },
  {
   "cell_type": "markdown",
   "metadata": {},
   "source": [
    "## Playing around non-linear regression"
   ]
  },
  {
   "cell_type": "code",
   "execution_count": 129,
   "metadata": {},
   "outputs": [
    {
     "name": "stdout",
     "output_type": "stream",
     "text": [
      "-0.485657395747 7.17511399246\n"
     ]
    },
    {
     "data": {
      "text/plain": [
       "[<matplotlib.lines.Line2D at 0xa5039020f0>]"
      ]
     },
     "execution_count": 129,
     "metadata": {},
     "output_type": "execute_result"
    },
    {
     "data": {
      "image/png": "[encoded data removed]",
      "text/plain": [
       "<matplotlib.figure.Figure at 0xa503902ef0>"
      ]
     },
     "metadata": {},
     "output_type": "display_data"
    }
   ],
   "source": [
    "pd.options.mode.chained_assignment = None\n",
    "df3 = df2[df2[\"max_hr\"]>180]\n",
    "\n",
    "a, b = np.polyfit(np.log(df3[\"time\"]), df3[\"pace\"], 1)\n",
    "print(a,b)\n",
    "\n",
    "# p = scipy.optimize.curve_fit(lambda t,a,b: a+b*np.log(t),  df3[\"minute\"],  df3[\"pace\"])\n",
    "# c,d = p[0][0], p[0][1]\n",
    "# print(c,d)\n",
    "\n",
    "def func(x,a,b):\n",
    "    return a * np.log(x) + b\n",
    "\n",
    "x = math.ceil(df3[\"time\"].max())\n",
    "plt.scatter(df3[\"time\"], df3[\"pace\"])\n",
    "plt.plot(range(1, x), func(range(1, x), a, b), 'r-')"
   ]
  },
  {
   "cell_type": "markdown",
   "metadata": {},
   "source": [
    "## Compairing with JD's FVO2max"
   ]
  },
  {
   "cell_type": "code",
   "execution_count": 132,
   "metadata": {},
   "outputs": [
    {
     "data": {
      "text/plain": [
       "[<matplotlib.lines.Line2D at 0xa5049cf3c8>]"
      ]
     },
     "execution_count": 132,
     "metadata": {},
     "output_type": "execute_result"
    },
    {
     "data": {
      "image/png": "[encoded data removed]",
      "text/plain": [
       "<matplotlib.figure.Figure at 0xa5049cf5f8>"
      ]
     },
     "metadata": {},
     "output_type": "display_data"
    }
   ],
   "source": [
    "df3[\"minute\"] = df3[\"time\"]/60\n",
    "df3[\"f_vo2\"] = df3[\"pace\"]/5.555\n",
    "\n",
    "def jd(x):\n",
    "    x = pd.Series.from_array(x)\n",
    "    return 0.8 + 0.298956 * np.exp(-0.193261 * x) + 0.189438 * np.exp(-0.012778 * x)\n",
    "\n",
    "x = math.ceil(df3[\"minute\"].max())\n",
    "plt.scatter(df3[\"minute\"], df3[\"f_vo2\"])\n",
    "plt.plot(range(1, x), jd(range(1, x)), 'r-')"
   ]
  }
 ],
 "metadata": {
  "kernelspec": {
   "display_name": "Python 3",
   "language": "python",
   "name": "python3"
  },
  "language_info": {
   "codemirror_mode": {
    "name": "ipython",
    "version": 3
   },
   "file_extension": ".py",
   "mimetype": "text/x-python",
   "name": "python",
   "nbconvert_exporter": "python",
   "pygments_lexer": "ipython3",
   "version": "3.5.1"
  }
 },
 "nbformat": 4,
 "nbformat_minor": 2
}
