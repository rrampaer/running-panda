{
 "cells": [
  {
   "cell_type": "code",
   "execution_count": null,
   "metadata": {},
   "outputs": [],
   "source": [
    "import os\n",
    "import sys\n",
    "import pandas as pd\n",
    "import numpy as np\n",
    "\n",
    "module_path = os.path.abspath(os.path.join('..\\..'))\n",
    "if module_path not in sys.path:\n",
    "    sys.path.append(module_path)\n",
    "from src import helpers"
   ]
  },
  {
   "cell_type": "code",
   "execution_count": null,
   "metadata": {},
   "outputs": [],
   "source": [
    "activities = os.listdir('..\\\\..\\\\data\\\\activities')\n",
    "activities = list(set(activities))"
   ]
  },
  {
   "cell_type": "code",
   "execution_count": null,
   "metadata": {
    "scrolled": false
   },
   "outputs": [],
   "source": [
    "first_activity = activities[0]\n",
    "path = '..\\\\..\\\\data\\\\activities\\\\{}'.format(first_activity)\n",
    "df = pd.read_csv(path, encoding='latin1')\n",
    "df[\"Id\"] = activities[0][:-4]\n",
    "df = df.set_index([\"Id\", \"Intervalle\"])\n",
    "\n",
    "for activity in activities[1:]:\n",
    "    path = '..\\\\..\\\\data\\\\activities\\\\{}'.format(activity)\n",
    "    df1 = pd.read_csv(path, encoding='latin1')\n",
    "    df1[\"Id\"] = activity[:-4]\n",
    "    if len(df1) != 0:\n",
    "        df1 = df1.set_index([\"Id\", \"Intervalle\"])\n",
    "        df = df1.append(df)\n",
    "    else:\n",
    "        print(\"Empty Dataframe for activity {}.csv\".format(activity))"
   ]
  },
  {
   "cell_type": "markdown",
   "metadata": {},
   "source": [
    "## Delete rows without \"Temps de déplacement\", \"Distance\" or \"Pace\""
   ]
  },
  {
   "cell_type": "code",
   "execution_count": null,
   "metadata": {
    "scrolled": false
   },
   "outputs": [],
   "source": [
    "df[\"Distance\"].replace('--', np.nan, inplace=True)\n",
    "df[\"Temps de déplacement\"].replace('--', np.nan, inplace=True)\n",
    "df[\"Allure moyenne en déplacement\"].replace('--', np.nan, inplace=True)\n",
    "\n",
    "df.dropna(inplace=True)"
   ]
  },
  {
   "cell_type": "markdown",
   "metadata": {},
   "source": [
    "## Bugs on \"Temps de déplacement\""
   ]
  },
  {
   "cell_type": "code",
   "execution_count": null,
   "metadata": {
    "scrolled": true
   },
   "outputs": [],
   "source": [
    "# As for\n",
    "df.loc[(\"1422118663\", \"1\")]"
   ]
  },
  {
   "cell_type": "markdown",
   "metadata": {},
   "source": [
    "## Column types and subsetting"
   ]
  },
  {
   "cell_type": "code",
   "execution_count": null,
   "metadata": {
    "scrolled": true
   },
   "outputs": [],
   "source": [
    "df[\"pace\"] = df.apply(helpers.get_mps, axis=1)\n",
    "df[\"best_pace\"] = df.apply(helpers.get_best_mps, axis=1)\n",
    "df[\"time\"] = df.apply(helpers.min_seconds, axis=1)\n",
    "df[\"distance\"] = pd.to_numeric(df[\"Distance\"], errors=\"coerce\")\n",
    "df[\"d_plus\"] = pd.to_numeric(df[\"Gain d'altitude\"], errors=\"coerce\").fillna(0).astype(int)\n",
    "df[\"d_minus\"] = pd.to_numeric(df[\"Perte d'altitude\"], errors=\"coerce\").fillna(0).astype(int)\n",
    "df[\"cadence\"] = pd.to_numeric(df[\"Cadence de course moyenne\"], errors=\"coerce\")\n",
    "df[\"stride_length\"] = pd.to_numeric(df[\"Longueur moyenne des foulées\"], errors=\"coerce\")\n",
    "df[\"avg_hr\"] = pd.to_numeric(df[\"Fréquence cardiaque moy.\"], errors=\"coerce\")\n",
    "df[\"max_hr\"] = pd.to_numeric(df[\"Fréquence cardiaque maximale\"], errors=\"coerce\")\n",
    "df[\"kcal\"] = pd.to_numeric(df[\"Calories\"], errors=\"coerce\").fillna(0).astype(int)\n",
    "df = df.loc[:, [\"distance\", \"time\", \"pace\", \"best_pace\", \"d_plus\", \"d_minus\", \"cadence\", \"stride_length\", \"avg_hr\", \"max_hr\", \"kcal\"]]\n",
    "df"
   ]
  },
  {
   "cell_type": "code",
   "execution_count": null,
   "metadata": {},
   "outputs": [],
   "source": [
    "df.sort_values(\"time\", ascending=False)"
   ]
  },
  {
   "cell_type": "markdown",
   "metadata": {},
   "source": [
    "## Exporting as CSV"
   ]
  },
  {
   "cell_type": "code",
   "execution_count": null,
   "metadata": {},
   "outputs": [],
   "source": [
    "df.to_csv('..\\\\..\\\\data\\\\processed\\\\laps.csv')"
   ]
  }
 ],
 "metadata": {
  "kernelspec": {
   "display_name": "Python 3",
   "language": "python",
   "name": "python3"
  },
  "language_info": {
   "codemirror_mode": {
    "name": "ipython",
    "version": 3
   },
   "file_extension": ".py",
   "mimetype": "text/x-python",
   "name": "python",
   "nbconvert_exporter": "python",
   "pygments_lexer": "ipython3",
   "version": "3.5.1"
  }
 },
 "nbformat": 4,
 "nbformat_minor": 2
}
